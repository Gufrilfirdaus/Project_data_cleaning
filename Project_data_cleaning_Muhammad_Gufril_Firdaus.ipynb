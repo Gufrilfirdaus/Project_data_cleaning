{
  "cells": [
    {
      "cell_type": "markdown",
      "id": "2071f8e1",
      "metadata": {
        "id": "2071f8e1"
      },
      "source": [
        "# Data Cleaning"
      ]
    },
    {
      "cell_type": "code",
      "execution_count": null,
      "id": "fec647ac",
      "metadata": {
        "id": "fec647ac"
      },
      "outputs": [],
      "source": [
        "import pandas as pd\n",
        "import matplotlib.pyplot as plt\n",
        "import numpy as np\n",
        "import seaborn as sns\n",
        "from sklearn.model_selection import train_test_split\n",
        "\n",
        "# Scalling untuk MinMax Scaller\n",
        "from sklearn.preprocessing import MinMaxScaler\n",
        "# Set the maximum number of columns and rows to display to a large number\n",
        "pd.set_option('display.max_columns', None)\n",
        "pd.set_option('display.max_rows', None)"
      ]
    },
    {
      "cell_type": "markdown",
      "id": "74d39499",
      "metadata": {
        "id": "74d39499"
      },
      "source": [
        "# B. Outlier Handling"
      ]
    },
    {
      "cell_type": "markdown",
      "id": "d1c648ae",
      "metadata": {
        "id": "d1c648ae"
      },
      "source": [
        "### Outlier Handling : InterQuartile Handling"
      ]
    },
    {
      "cell_type": "code",
      "execution_count": null,
      "id": "c034c838",
      "metadata": {
        "id": "c034c838"
      },
      "outputs": [],
      "source": [
        "# untuk plot Q-Q\n",
        "import scipy.stats as stats"
      ]
    },
    {
      "cell_type": "markdown",
      "id": "8fd67964",
      "metadata": {
        "id": "8fd67964"
      },
      "source": [
        "### Assignment 1.a :\n",
        "1. lakukan looping untuk melihat plot distribusi data dan outlier pada kolom-kolom : ['MedInc', 'HouseAge', 'AveRooms','AveBedrms', 'AveOccup'] di california_dataset.csv\n",
        "2. Daftar nama kolom yang Anda cek, kolom_kolom = ['MedInc', 'HouseAge', 'AveRooms', 'AveBedrms', 'AveOccup']\n",
        "3. Lakukan untuk tujuan machine learning dan juga exploratory data analysis."
      ]
    },
    {
      "cell_type": "markdown",
      "id": "60d79b71",
      "metadata": {
        "id": "60d79b71"
      },
      "source": [
        "### untuk tujuan machine learning"
      ]
    },
    {
      "cell_type": "code",
      "execution_count": null,
      "id": "ddfd5547",
      "metadata": {
        "colab": {
          "base_uri": "https://localhost:8080/",
          "height": 304
        },
        "id": "ddfd5547",
        "outputId": "14c75117-3f91-428a-a29b-76b94331b8dc"
      },
      "outputs": [
        {
          "ename": "FileNotFoundError",
          "evalue": "[Errno 2] No such file or directory: 'california_dataset.csv'",
          "output_type": "error",
          "traceback": [
            "\u001b[0;31m---------------------------------------------------------------------------\u001b[0m",
            "\u001b[0;31mFileNotFoundError\u001b[0m                         Traceback (most recent call last)",
            "\u001b[0;32m<ipython-input-7-36e3351a338f>\u001b[0m in \u001b[0;36m<cell line: 1>\u001b[0;34m()\u001b[0m\n\u001b[0;32m----> 1\u001b[0;31m \u001b[0mdf_california\u001b[0m \u001b[0;34m=\u001b[0m \u001b[0mpd\u001b[0m\u001b[0;34m.\u001b[0m\u001b[0mread_csv\u001b[0m\u001b[0;34m(\u001b[0m\u001b[0;34m'california_dataset.csv'\u001b[0m\u001b[0;34m)\u001b[0m\u001b[0;34m\u001b[0m\u001b[0;34m\u001b[0m\u001b[0m\n\u001b[0m\u001b[1;32m      2\u001b[0m \u001b[0mdf_california\u001b[0m\u001b[0;34m.\u001b[0m\u001b[0mhead\u001b[0m\u001b[0;34m(\u001b[0m\u001b[0;34m)\u001b[0m\u001b[0;34m\u001b[0m\u001b[0;34m\u001b[0m\u001b[0m\n",
            "\u001b[0;32m/usr/local/lib/python3.10/dist-packages/pandas/io/parsers/readers.py\u001b[0m in \u001b[0;36mread_csv\u001b[0;34m(filepath_or_buffer, sep, delimiter, header, names, index_col, usecols, dtype, engine, converters, true_values, false_values, skipinitialspace, skiprows, skipfooter, nrows, na_values, keep_default_na, na_filter, verbose, skip_blank_lines, parse_dates, infer_datetime_format, keep_date_col, date_parser, date_format, dayfirst, cache_dates, iterator, chunksize, compression, thousands, decimal, lineterminator, quotechar, quoting, doublequote, escapechar, comment, encoding, encoding_errors, dialect, on_bad_lines, delim_whitespace, low_memory, memory_map, float_precision, storage_options, dtype_backend)\u001b[0m\n\u001b[1;32m   1024\u001b[0m     \u001b[0mkwds\u001b[0m\u001b[0;34m.\u001b[0m\u001b[0mupdate\u001b[0m\u001b[0;34m(\u001b[0m\u001b[0mkwds_defaults\u001b[0m\u001b[0;34m)\u001b[0m\u001b[0;34m\u001b[0m\u001b[0;34m\u001b[0m\u001b[0m\n\u001b[1;32m   1025\u001b[0m \u001b[0;34m\u001b[0m\u001b[0m\n\u001b[0;32m-> 1026\u001b[0;31m     \u001b[0;32mreturn\u001b[0m \u001b[0m_read\u001b[0m\u001b[0;34m(\u001b[0m\u001b[0mfilepath_or_buffer\u001b[0m\u001b[0;34m,\u001b[0m \u001b[0mkwds\u001b[0m\u001b[0;34m)\u001b[0m\u001b[0;34m\u001b[0m\u001b[0;34m\u001b[0m\u001b[0m\n\u001b[0m\u001b[1;32m   1027\u001b[0m \u001b[0;34m\u001b[0m\u001b[0m\n\u001b[1;32m   1028\u001b[0m \u001b[0;34m\u001b[0m\u001b[0m\n",
            "\u001b[0;32m/usr/local/lib/python3.10/dist-packages/pandas/io/parsers/readers.py\u001b[0m in \u001b[0;36m_read\u001b[0;34m(filepath_or_buffer, kwds)\u001b[0m\n\u001b[1;32m    618\u001b[0m \u001b[0;34m\u001b[0m\u001b[0m\n\u001b[1;32m    619\u001b[0m     \u001b[0;31m# Create the parser.\u001b[0m\u001b[0;34m\u001b[0m\u001b[0;34m\u001b[0m\u001b[0m\n\u001b[0;32m--> 620\u001b[0;31m     \u001b[0mparser\u001b[0m \u001b[0;34m=\u001b[0m \u001b[0mTextFileReader\u001b[0m\u001b[0;34m(\u001b[0m\u001b[0mfilepath_or_buffer\u001b[0m\u001b[0;34m,\u001b[0m \u001b[0;34m**\u001b[0m\u001b[0mkwds\u001b[0m\u001b[0;34m)\u001b[0m\u001b[0;34m\u001b[0m\u001b[0;34m\u001b[0m\u001b[0m\n\u001b[0m\u001b[1;32m    621\u001b[0m \u001b[0;34m\u001b[0m\u001b[0m\n\u001b[1;32m    622\u001b[0m     \u001b[0;32mif\u001b[0m \u001b[0mchunksize\u001b[0m \u001b[0;32mor\u001b[0m \u001b[0miterator\u001b[0m\u001b[0;34m:\u001b[0m\u001b[0;34m\u001b[0m\u001b[0;34m\u001b[0m\u001b[0m\n",
            "\u001b[0;32m/usr/local/lib/python3.10/dist-packages/pandas/io/parsers/readers.py\u001b[0m in \u001b[0;36m__init__\u001b[0;34m(self, f, engine, **kwds)\u001b[0m\n\u001b[1;32m   1618\u001b[0m \u001b[0;34m\u001b[0m\u001b[0m\n\u001b[1;32m   1619\u001b[0m         \u001b[0mself\u001b[0m\u001b[0;34m.\u001b[0m\u001b[0mhandles\u001b[0m\u001b[0;34m:\u001b[0m \u001b[0mIOHandles\u001b[0m \u001b[0;34m|\u001b[0m \u001b[0;32mNone\u001b[0m \u001b[0;34m=\u001b[0m \u001b[0;32mNone\u001b[0m\u001b[0;34m\u001b[0m\u001b[0;34m\u001b[0m\u001b[0m\n\u001b[0;32m-> 1620\u001b[0;31m         \u001b[0mself\u001b[0m\u001b[0;34m.\u001b[0m\u001b[0m_engine\u001b[0m \u001b[0;34m=\u001b[0m \u001b[0mself\u001b[0m\u001b[0;34m.\u001b[0m\u001b[0m_make_engine\u001b[0m\u001b[0;34m(\u001b[0m\u001b[0mf\u001b[0m\u001b[0;34m,\u001b[0m \u001b[0mself\u001b[0m\u001b[0;34m.\u001b[0m\u001b[0mengine\u001b[0m\u001b[0;34m)\u001b[0m\u001b[0;34m\u001b[0m\u001b[0;34m\u001b[0m\u001b[0m\n\u001b[0m\u001b[1;32m   1621\u001b[0m \u001b[0;34m\u001b[0m\u001b[0m\n\u001b[1;32m   1622\u001b[0m     \u001b[0;32mdef\u001b[0m \u001b[0mclose\u001b[0m\u001b[0;34m(\u001b[0m\u001b[0mself\u001b[0m\u001b[0;34m)\u001b[0m \u001b[0;34m->\u001b[0m \u001b[0;32mNone\u001b[0m\u001b[0;34m:\u001b[0m\u001b[0;34m\u001b[0m\u001b[0;34m\u001b[0m\u001b[0m\n",
            "\u001b[0;32m/usr/local/lib/python3.10/dist-packages/pandas/io/parsers/readers.py\u001b[0m in \u001b[0;36m_make_engine\u001b[0;34m(self, f, engine)\u001b[0m\n\u001b[1;32m   1878\u001b[0m                 \u001b[0;32mif\u001b[0m \u001b[0;34m\"b\"\u001b[0m \u001b[0;32mnot\u001b[0m \u001b[0;32min\u001b[0m \u001b[0mmode\u001b[0m\u001b[0;34m:\u001b[0m\u001b[0;34m\u001b[0m\u001b[0;34m\u001b[0m\u001b[0m\n\u001b[1;32m   1879\u001b[0m                     \u001b[0mmode\u001b[0m \u001b[0;34m+=\u001b[0m \u001b[0;34m\"b\"\u001b[0m\u001b[0;34m\u001b[0m\u001b[0;34m\u001b[0m\u001b[0m\n\u001b[0;32m-> 1880\u001b[0;31m             self.handles = get_handle(\n\u001b[0m\u001b[1;32m   1881\u001b[0m                 \u001b[0mf\u001b[0m\u001b[0;34m,\u001b[0m\u001b[0;34m\u001b[0m\u001b[0;34m\u001b[0m\u001b[0m\n\u001b[1;32m   1882\u001b[0m                 \u001b[0mmode\u001b[0m\u001b[0;34m,\u001b[0m\u001b[0;34m\u001b[0m\u001b[0;34m\u001b[0m\u001b[0m\n",
            "\u001b[0;32m/usr/local/lib/python3.10/dist-packages/pandas/io/common.py\u001b[0m in \u001b[0;36mget_handle\u001b[0;34m(path_or_buf, mode, encoding, compression, memory_map, is_text, errors, storage_options)\u001b[0m\n\u001b[1;32m    871\u001b[0m         \u001b[0;32mif\u001b[0m \u001b[0mioargs\u001b[0m\u001b[0;34m.\u001b[0m\u001b[0mencoding\u001b[0m \u001b[0;32mand\u001b[0m \u001b[0;34m\"b\"\u001b[0m \u001b[0;32mnot\u001b[0m \u001b[0;32min\u001b[0m \u001b[0mioargs\u001b[0m\u001b[0;34m.\u001b[0m\u001b[0mmode\u001b[0m\u001b[0;34m:\u001b[0m\u001b[0;34m\u001b[0m\u001b[0;34m\u001b[0m\u001b[0m\n\u001b[1;32m    872\u001b[0m             \u001b[0;31m# Encoding\u001b[0m\u001b[0;34m\u001b[0m\u001b[0;34m\u001b[0m\u001b[0m\n\u001b[0;32m--> 873\u001b[0;31m             handle = open(\n\u001b[0m\u001b[1;32m    874\u001b[0m                 \u001b[0mhandle\u001b[0m\u001b[0;34m,\u001b[0m\u001b[0;34m\u001b[0m\u001b[0;34m\u001b[0m\u001b[0m\n\u001b[1;32m    875\u001b[0m                 \u001b[0mioargs\u001b[0m\u001b[0;34m.\u001b[0m\u001b[0mmode\u001b[0m\u001b[0;34m,\u001b[0m\u001b[0;34m\u001b[0m\u001b[0;34m\u001b[0m\u001b[0m\n",
            "\u001b[0;31mFileNotFoundError\u001b[0m: [Errno 2] No such file or directory: 'california_dataset.csv'"
          ]
        }
      ],
      "source": [
        "df_california = pd.read_csv('california_dataset.csv')\n",
        "df_california.head()"
      ]
    },
    {
      "cell_type": "code",
      "execution_count": null,
      "id": "TnmRgifSxtP_",
      "metadata": {
        "id": "TnmRgifSxtP_"
      },
      "outputs": [],
      "source": [
        "from sklearn.model_selection import train_test_split\n",
        "train_clfr, test_clfr = train_test_split(df_california, test_size=0.2, random_state=42)"
      ]
    },
    {
      "cell_type": "code",
      "execution_count": null,
      "id": "gL0zaQ3MydhN",
      "metadata": {
        "id": "gL0zaQ3MydhN"
      },
      "outputs": [],
      "source": [
        "train_clfr.describe()"
      ]
    },
    {
      "cell_type": "code",
      "execution_count": null,
      "id": "BJnjJeNm26Um",
      "metadata": {
        "id": "BJnjJeNm26Um"
      },
      "outputs": [],
      "source": [
        "df_california.columns"
      ]
    },
    {
      "cell_type": "code",
      "execution_count": null,
      "id": "oeCF-YlzFaix",
      "metadata": {
        "id": "oeCF-YlzFaix"
      },
      "outputs": [],
      "source": [
        "kolom_kolom = ['MedInc', 'HouseAge', 'AveRooms', 'AveBedrms', 'AveOccup']"
      ]
    },
    {
      "cell_type": "code",
      "execution_count": null,
      "id": "0EnjqxH73DA6",
      "metadata": {
        "id": "0EnjqxH73DA6"
      },
      "outputs": [],
      "source": [
        "def check_plot(df, variable):\n",
        "\n",
        "  plt.figure(figsize=(16, 4))\n",
        "\n",
        "  #plot histogram\n",
        "  plt.subplot(1,3,1)\n",
        "  sns.histplot(df[variable], bins=30)\n",
        "  plt.title(f'Histogram of {variable}')\n",
        "  plt.xlabel(variable)\n",
        "  plt.ylabel('Frequency')\n",
        "\n",
        "  #plot Q-Q\n",
        "  plt.subplot(1,3,2)\n",
        "  stats.probplot(df[variable], dist=\"norm\", plot=plt)\n",
        "  plt.ylabel('Variable quantiles')\n",
        "\n",
        "  #plot boxplot\n",
        "  plt.subplot(1,3,3)\n",
        "  sns.boxplot(y=df[variable])\n",
        "  plt.title(f'Box Plot of {variable}')\n",
        "  plt.show()\n",
        "\n",
        "\n",
        "for kolom in kolom_kolom:\n",
        "  print(f\"Visualisasi Kolom: {kolom}\")\n",
        "  check_plot(train_clfr, kolom)"
      ]
    },
    {
      "cell_type": "markdown",
      "id": "pxuaQF2jH-4f",
      "metadata": {
        "id": "pxuaQF2jH-4f"
      },
      "source": [
        "Insight:\n",
        "1. Rata-rata menunjukkan pola distribusi yang skewed right terlihat pada kolom Averooms, MedInc, AveBedrms, AveOccup.\n",
        "2. Terdapat banyak outlier di kolom-kolom tersebut, yang terlihat jelas di Box Plot.\n",
        "3. Distribusi data secara umum tidak mengikuti distribusi normal yang terlihat pada Probability Plot."
      ]
    },
    {
      "cell_type": "markdown",
      "id": "195533dd",
      "metadata": {
        "id": "195533dd"
      },
      "source": [
        "### untuk exploratory data analysis"
      ]
    },
    {
      "cell_type": "code",
      "execution_count": null,
      "id": "87SJFrF4fH3G",
      "metadata": {
        "id": "87SJFrF4fH3G"
      },
      "outputs": [],
      "source": [
        "data_clfr = df_california.copy()"
      ]
    },
    {
      "cell_type": "code",
      "execution_count": null,
      "id": "ldjByE4LDiBi",
      "metadata": {
        "id": "ldjByE4LDiBi"
      },
      "outputs": [],
      "source": [
        "for kolom in kolom_kolom:\n",
        "  print(f\"Visualisasi Kolom: {kolom} (Exploratory Data Analysis)\")\n",
        "  check_plot(data_clfr, kolom)"
      ]
    },
    {
      "cell_type": "markdown",
      "id": "7hrZmnbxICjo",
      "metadata": {
        "id": "7hrZmnbxICjo"
      },
      "source": [
        "Insight:\n",
        "1. Rata-rata menunjukkan pola distribusi yang skewed right terlihat pada kolom Averooms, MedInc, AveBedrms, AveOccup.\n",
        "2. Terdapat banyak outlier di kolom-kolom tersebut, yang terlihat jelas di Box Plot.\n",
        "3. Distribusi data secara umum tidak mengikuti distribusi normal terlihat pada Probability Plot."
      ]
    },
    {
      "cell_type": "markdown",
      "id": "9555fa73",
      "metadata": {
        "id": "9555fa73"
      },
      "source": [
        "\n",
        "1. Lakukan handling outlier pilih 1 kolom saja yang di handling dengan IQR setelah mengecek distribusinya\n",
        "2. Dan cek distribusinya kembali\n",
        "3. untuk tujuan machine learning dan juga exploratory data analysis."
      ]
    },
    {
      "cell_type": "code",
      "execution_count": null,
      "id": "2e3c2771",
      "metadata": {
        "id": "2e3c2771"
      },
      "outputs": [],
      "source": [
        "### untuk tujuan machine learning### Assignment 1.b Lakukan handling outlier pilih 1 kolom saja yang di handling dengan IQR setelah mengecek distribusinya\n",
        "### Dan cek distribusinya kembali"
      ]
    },
    {
      "cell_type": "markdown",
      "id": "12d3f602",
      "metadata": {
        "id": "12d3f602"
      },
      "source": [
        "### untuk tujuan machine learning"
      ]
    },
    {
      "cell_type": "code",
      "execution_count": null,
      "id": "qyPh5TkPIAkN",
      "metadata": {
        "id": "qyPh5TkPIAkN"
      },
      "outputs": [],
      "source": [
        "def find_outlier_boundary(df, variable):\n",
        "\n",
        "    # Menghitung batas luar yang merupakan outlier\n",
        "\n",
        "    IQR = df[variable].quantile(0.75) - df[variable].quantile(0.25)\n",
        "\n",
        "    lower_boundary = df[variable].quantile(0.25) - (IQR * 1.5)\n",
        "    upper_boundary = df[variable].quantile(0.75) + (IQR * 1.5)\n",
        "\n",
        "    return upper_boundary, lower_boundary"
      ]
    },
    {
      "cell_type": "code",
      "execution_count": null,
      "id": "Dckc-6IvIMtZ",
      "metadata": {
        "id": "Dckc-6IvIMtZ"
      },
      "outputs": [],
      "source": [
        "# batas untuk AveBedrms\n",
        "occup_upper_limit, occup_lower_limit = find_outlier_boundary(train_clfr, 'AveBedrms')\n",
        "occup_upper_limit, occup_lower_limit"
      ]
    },
    {
      "cell_type": "code",
      "execution_count": null,
      "id": "So-2oaHJIhg5",
      "metadata": {
        "id": "So-2oaHJIhg5"
      },
      "outputs": [],
      "source": [
        "# Trimming atau drop value outlier -> pengurangan baris\n",
        "# Trimming outliers from the training data\n",
        "train_clfr = train_clfr[(train_clfr['AveBedrms'] <= occup_upper_limit) & (train_clfr['AveBedrms'] >= occup_lower_limit)]"
      ]
    },
    {
      "cell_type": "code",
      "execution_count": null,
      "id": "sY44wW-8InE4",
      "metadata": {
        "id": "sY44wW-8InE4"
      },
      "outputs": [],
      "source": [
        "check_plot(train_clfr, 'AveBedrms')"
      ]
    },
    {
      "cell_type": "markdown",
      "id": "4LOBFlSQIH1w",
      "metadata": {
        "id": "4LOBFlSQIH1w"
      },
      "source": [
        "Insight:\n",
        "Hasil yang didapat setelah dilakukan handling outlier pada kolom AveBedrms pada data train yaitu:\n",
        "1. Histogram menunjukan distribusi data hampir simetris dengan sedikit skewness ke kanan (skewed right).\n",
        "2. Probability Plot menunjukan garis data (titik-titik biru) mengikuti garis lurus merah dengan baik di bagian tengah, meskipun ada sedikit penyimpangan di bagian ujung kanan atas hal ini menunjukkan bahwa distribusi hampir normal dengan sedikit skewness positif (skewed right).\n",
        "3. Box plot menunjukkan distribusi data cukup seimbang, hampir tidak ada outlier ekstrem di luar whiske."
      ]
    },
    {
      "cell_type": "markdown",
      "id": "451fa11f",
      "metadata": {
        "id": "451fa11f"
      },
      "source": [
        "### untuk exploratory data analysis"
      ]
    },
    {
      "cell_type": "code",
      "execution_count": null,
      "id": "9225993e",
      "metadata": {
        "id": "9225993e"
      },
      "outputs": [],
      "source": [
        "full_occup_upper_limit, full_occup_lower_limit = find_outlier_boundary(data_clfr,'AveBedrms')\n",
        "full_occup_upper_limit, full_occup_lower_limit"
      ]
    },
    {
      "cell_type": "code",
      "execution_count": null,
      "id": "FF0FolHeJcsR",
      "metadata": {
        "id": "FF0FolHeJcsR"
      },
      "outputs": [],
      "source": [
        "data_clfr = data_clfr[(data_clfr['AveBedrms'] <= full_occup_upper_limit) & (data_clfr['AveBedrms'] >= full_occup_lower_limit)]"
      ]
    },
    {
      "cell_type": "code",
      "execution_count": null,
      "id": "7gbh2c8yKN-v",
      "metadata": {
        "id": "7gbh2c8yKN-v"
      },
      "outputs": [],
      "source": [
        "check_plot(data_clfr, 'AveBedrms')"
      ]
    },
    {
      "cell_type": "markdown",
      "id": "g5wVKPIhKL4X",
      "metadata": {
        "id": "g5wVKPIhKL4X"
      },
      "source": [
        "Insight:\n",
        "Hasil yang didapat setelah dilakukan handling outlier kolom AveBedrms pada data_clfr untuk Exploratory data analysis yaitu:\n",
        "1. Histogram menunjukan distribusi data hampir simetris dengan sedikit skewness ke kanan (skewed right).\n",
        "2. Probability Plot menunjukan garis data (titik-titik biru) mengikuti garis lurus merah dengan baik di bagian tengah, meskipun ada sedikit penyimpangan di bagian ujung kanan atas hal ini menunjukkan bahwa distribusi hampir normal dengan sedikit skewness positif (skewed right).\n",
        "3. Box plot menunjukkan distribusi data cukup seimbang, hampir tidak ada outlier ekstrem di luar whiske."
      ]
    },
    {
      "cell_type": "markdown",
      "id": "9d28a100",
      "metadata": {
        "id": "9d28a100"
      },
      "source": [
        "# C. Missing Value Handling\n",
        "Missing Value Merupakan nilai yang hilang di suatu kolom, namun tidak hanya sebatas itu. Untuk nilai yang tidak sesuai tapi muncul didalam suatu kolom tertentu juga bisa dianggap sebagai missing value. Misal tipenya kategorikal tapi isinya ada yang berupa angka dan juga sebaliknya."
      ]
    },
    {
      "cell_type": "markdown",
      "id": "4adcf5ec",
      "metadata": {
        "id": "4adcf5ec"
      },
      "source": [
        "### Aturan missing value handling :\n",
        "1. jika tipe datanya itu **numerik** -> handling menggunakan **median** (robust / tahan terhadap outlier)\n",
        "2. jika tipe datanya itu **kategorik / object / string** -> handling menggunakan **mode / modus**"
      ]
    },
    {
      "cell_type": "markdown",
      "id": "3eb56c03",
      "metadata": {
        "id": "3eb56c03"
      },
      "source": [
        "## Missing Value Handling :\n",
        "1. Cek persentase missing value hanya pada kolom Headquarters di company.csv, Cek jenis missing valuenya apakah ada atau tidak ?\n",
        "2. apakah di drop atau tidak (gunakan syarat drop kolom jika > 20%)\n",
        "3. jika tidak maka handling, dan dengan cara apa handling nilainya, median atau modus ?\n",
        "4. Lakukan untuk tujuan machine learning dan juga exploratory data analysis."
      ]
    },
    {
      "cell_type": "code",
      "execution_count": null,
      "id": "b6ac05e4",
      "metadata": {
        "id": "b6ac05e4"
      },
      "outputs": [],
      "source": [
        "df_company = pd.read_csv('company.csv')"
      ]
    },
    {
      "cell_type": "code",
      "execution_count": null,
      "id": "6gmkbuLh3BGe",
      "metadata": {
        "colab": {
          "base_uri": "https://localhost:8080/",
          "height": 1000
        },
        "id": "6gmkbuLh3BGe",
        "outputId": "8271c7db-61ad-4285-9e14-c787bf4411d3"
      },
      "outputs": [
        {
          "name": "stdout",
          "output_type": "stream",
          "text": [
            "============= Headquarters =================\n"
          ]
        },
        {
          "data": {
            "text/html": [
              "<div>\n",
              "<style scoped>\n",
              "    .dataframe tbody tr th:only-of-type {\n",
              "        vertical-align: middle;\n",
              "    }\n",
              "\n",
              "    .dataframe tbody tr th {\n",
              "        vertical-align: top;\n",
              "    }\n",
              "\n",
              "    .dataframe thead th {\n",
              "        text-align: right;\n",
              "    }\n",
              "</style>\n",
              "<table border=\"1\" class=\"dataframe\">\n",
              "  <thead>\n",
              "    <tr style=\"text-align: right;\">\n",
              "      <th></th>\n",
              "      <th>count</th>\n",
              "    </tr>\n",
              "    <tr>\n",
              "      <th>Headquarters</th>\n",
              "      <th></th>\n",
              "    </tr>\n",
              "  </thead>\n",
              "  <tbody>\n",
              "    <tr>\n",
              "      <th>New York, NY</th>\n",
              "      <td>33</td>\n",
              "    </tr>\n",
              "    <tr>\n",
              "      <th>-1</th>\n",
              "      <td>31</td>\n",
              "    </tr>\n",
              "    <tr>\n",
              "      <th>San Francisco, CA</th>\n",
              "      <td>31</td>\n",
              "    </tr>\n",
              "    <tr>\n",
              "      <th>Chicago, IL</th>\n",
              "      <td>23</td>\n",
              "    </tr>\n",
              "    <tr>\n",
              "      <th>Boston, MA</th>\n",
              "      <td>19</td>\n",
              "    </tr>\n",
              "    <tr>\n",
              "      <th>Reston, VA</th>\n",
              "      <td>14</td>\n",
              "    </tr>\n",
              "    <tr>\n",
              "      <th>Mc Lean, VA</th>\n",
              "      <td>13</td>\n",
              "    </tr>\n",
              "    <tr>\n",
              "      <th>Westminster, CO</th>\n",
              "      <td>12</td>\n",
              "    </tr>\n",
              "    <tr>\n",
              "      <th>Cambridge, United Kingdom</th>\n",
              "      <td>10</td>\n",
              "    </tr>\n",
              "    <tr>\n",
              "      <th>Cambridge, MA</th>\n",
              "      <td>10</td>\n",
              "    </tr>\n",
              "    <tr>\n",
              "      <th>Vienna, VA</th>\n",
              "      <td>8</td>\n",
              "    </tr>\n",
              "    <tr>\n",
              "      <th>Denver, CO</th>\n",
              "      <td>7</td>\n",
              "    </tr>\n",
              "    <tr>\n",
              "      <th>Herndon, VA</th>\n",
              "      <td>7</td>\n",
              "    </tr>\n",
              "    <tr>\n",
              "      <th>Washington, DC</th>\n",
              "      <td>7</td>\n",
              "    </tr>\n",
              "    <tr>\n",
              "      <th>Woodbine, MD</th>\n",
              "      <td>7</td>\n",
              "    </tr>\n",
              "    <tr>\n",
              "      <th>Saint Louis, MO</th>\n",
              "      <td>7</td>\n",
              "    </tr>\n",
              "    <tr>\n",
              "      <th>Bedford, MA</th>\n",
              "      <td>7</td>\n",
              "    </tr>\n",
              "    <tr>\n",
              "      <th>Arlington, VA</th>\n",
              "      <td>7</td>\n",
              "    </tr>\n",
              "    <tr>\n",
              "      <th>San Jose, CA</th>\n",
              "      <td>7</td>\n",
              "    </tr>\n",
              "    <tr>\n",
              "      <th>San Antonio, TX</th>\n",
              "      <td>6</td>\n",
              "    </tr>\n",
              "    <tr>\n",
              "      <th>Mountain View, CA</th>\n",
              "      <td>6</td>\n",
              "    </tr>\n",
              "    <tr>\n",
              "      <th>Basel, Switzerland</th>\n",
              "      <td>6</td>\n",
              "    </tr>\n",
              "    <tr>\n",
              "      <th>San Rafael, CA</th>\n",
              "      <td>6</td>\n",
              "    </tr>\n",
              "    <tr>\n",
              "      <th>Chantilly, VA</th>\n",
              "      <td>6</td>\n",
              "    </tr>\n",
              "    <tr>\n",
              "      <th>Fairfax, VA</th>\n",
              "      <td>5</td>\n",
              "    </tr>\n",
              "    <tr>\n",
              "      <th>Houston, TX</th>\n",
              "      <td>5</td>\n",
              "    </tr>\n",
              "    <tr>\n",
              "      <th>Pittsburgh, PA</th>\n",
              "      <td>5</td>\n",
              "    </tr>\n",
              "    <tr>\n",
              "      <th>Bethesda, MD</th>\n",
              "      <td>5</td>\n",
              "    </tr>\n",
              "    <tr>\n",
              "      <th>Rockville, MD</th>\n",
              "      <td>5</td>\n",
              "    </tr>\n",
              "    <tr>\n",
              "      <th>Los Angeles, CA</th>\n",
              "      <td>5</td>\n",
              "    </tr>\n",
              "    <tr>\n",
              "      <th>Springfield, MA</th>\n",
              "      <td>5</td>\n",
              "    </tr>\n",
              "    <tr>\n",
              "      <th>Bellevue, WA</th>\n",
              "      <td>5</td>\n",
              "    </tr>\n",
              "    <tr>\n",
              "      <th>Princeton, NJ</th>\n",
              "      <td>5</td>\n",
              "    </tr>\n",
              "    <tr>\n",
              "      <th>Annapolis Junction, MD</th>\n",
              "      <td>4</td>\n",
              "    </tr>\n",
              "    <tr>\n",
              "      <th>Cedar Rapids, IA</th>\n",
              "      <td>4</td>\n",
              "    </tr>\n",
              "    <tr>\n",
              "      <th>South San Francisco, CA</th>\n",
              "      <td>4</td>\n",
              "    </tr>\n",
              "    <tr>\n",
              "      <th>McLean, VA</th>\n",
              "      <td>4</td>\n",
              "    </tr>\n",
              "    <tr>\n",
              "      <th>Falls Church, VA</th>\n",
              "      <td>4</td>\n",
              "    </tr>\n",
              "    <tr>\n",
              "      <th>Orlando, FL</th>\n",
              "      <td>4</td>\n",
              "    </tr>\n",
              "    <tr>\n",
              "      <th>Pleasanton, CA</th>\n",
              "      <td>4</td>\n",
              "    </tr>\n",
              "    <tr>\n",
              "      <th>Raleigh, NC</th>\n",
              "      <td>4</td>\n",
              "    </tr>\n",
              "    <tr>\n",
              "      <th>Aliso Viejo, CA</th>\n",
              "      <td>4</td>\n",
              "    </tr>\n",
              "    <tr>\n",
              "      <th>Santa Clara, CA</th>\n",
              "      <td>4</td>\n",
              "    </tr>\n",
              "    <tr>\n",
              "      <th>Santa Cruz, CA</th>\n",
              "      <td>4</td>\n",
              "    </tr>\n",
              "    <tr>\n",
              "      <th>San Diego, CA</th>\n",
              "      <td>4</td>\n",
              "    </tr>\n",
              "    <tr>\n",
              "      <th>Austin, TX</th>\n",
              "      <td>4</td>\n",
              "    </tr>\n",
              "    <tr>\n",
              "      <th>Palo Alto, CA</th>\n",
              "      <td>4</td>\n",
              "    </tr>\n",
              "    <tr>\n",
              "      <th>Memphis, TN</th>\n",
              "      <td>4</td>\n",
              "    </tr>\n",
              "    <tr>\n",
              "      <th>Indianapolis, IN</th>\n",
              "      <td>3</td>\n",
              "    </tr>\n",
              "    <tr>\n",
              "      <th>Paris, France</th>\n",
              "      <td>3</td>\n",
              "    </tr>\n",
              "    <tr>\n",
              "      <th>Naperville, IL</th>\n",
              "      <td>3</td>\n",
              "    </tr>\n",
              "    <tr>\n",
              "      <th>Atlanta, GA</th>\n",
              "      <td>3</td>\n",
              "    </tr>\n",
              "    <tr>\n",
              "      <th>Hillsborough, NJ</th>\n",
              "      <td>3</td>\n",
              "    </tr>\n",
              "    <tr>\n",
              "      <th>Sunnyvale, CA</th>\n",
              "      <td>3</td>\n",
              "    </tr>\n",
              "    <tr>\n",
              "      <th>Minneapolis, MN</th>\n",
              "      <td>3</td>\n",
              "    </tr>\n",
              "    <tr>\n",
              "      <th>Laurel, MD</th>\n",
              "      <td>3</td>\n",
              "    </tr>\n",
              "    <tr>\n",
              "      <th>Columbus, OH</th>\n",
              "      <td>3</td>\n",
              "    </tr>\n",
              "    <tr>\n",
              "      <th>Winter Park, FL</th>\n",
              "      <td>3</td>\n",
              "    </tr>\n",
              "    <tr>\n",
              "      <th>Alexandria, VA</th>\n",
              "      <td>3</td>\n",
              "    </tr>\n",
              "    <tr>\n",
              "      <th>Lincoln, NE</th>\n",
              "      <td>3</td>\n",
              "    </tr>\n",
              "    <tr>\n",
              "      <th>Jersey City, NJ</th>\n",
              "      <td>3</td>\n",
              "    </tr>\n",
              "    <tr>\n",
              "      <th>Woburn, MA</th>\n",
              "      <td>3</td>\n",
              "    </tr>\n",
              "    <tr>\n",
              "      <th>Carson, CA</th>\n",
              "      <td>3</td>\n",
              "    </tr>\n",
              "    <tr>\n",
              "      <th>Folsom, CA</th>\n",
              "      <td>3</td>\n",
              "    </tr>\n",
              "    <tr>\n",
              "      <th>Westlake Village, CA</th>\n",
              "      <td>3</td>\n",
              "    </tr>\n",
              "    <tr>\n",
              "      <th>Richland, WA</th>\n",
              "      <td>3</td>\n",
              "    </tr>\n",
              "    <tr>\n",
              "      <th>Seattle, WA</th>\n",
              "      <td>3</td>\n",
              "    </tr>\n",
              "    <tr>\n",
              "      <th>Maple Plain, MN</th>\n",
              "      <td>3</td>\n",
              "    </tr>\n",
              "    <tr>\n",
              "      <th>Hartford, CT</th>\n",
              "      <td>3</td>\n",
              "    </tr>\n",
              "    <tr>\n",
              "      <th>Fort Worth, TX</th>\n",
              "      <td>2</td>\n",
              "    </tr>\n",
              "    <tr>\n",
              "      <th>Lorton, VA</th>\n",
              "      <td>2</td>\n",
              "    </tr>\n",
              "    <tr>\n",
              "      <th>Itasca, IL</th>\n",
              "      <td>2</td>\n",
              "    </tr>\n",
              "    <tr>\n",
              "      <th>Carle Place, NY</th>\n",
              "      <td>2</td>\n",
              "    </tr>\n",
              "    <tr>\n",
              "      <th>Fairmont, WV</th>\n",
              "      <td>2</td>\n",
              "    </tr>\n",
              "    <tr>\n",
              "      <th>Kent, WA</th>\n",
              "      <td>2</td>\n",
              "    </tr>\n",
              "    <tr>\n",
              "      <th>Coconut Creek, FL</th>\n",
              "      <td>2</td>\n",
              "    </tr>\n",
              "    <tr>\n",
              "      <th>Cupertino, CA</th>\n",
              "      <td>2</td>\n",
              "    </tr>\n",
              "    <tr>\n",
              "      <th>Waltham, MA</th>\n",
              "      <td>2</td>\n",
              "    </tr>\n",
              "    <tr>\n",
              "      <th>Baltimore, MD</th>\n",
              "      <td>2</td>\n",
              "    </tr>\n",
              "    <tr>\n",
              "      <th>Nashville, TN</th>\n",
              "      <td>2</td>\n",
              "    </tr>\n",
              "    <tr>\n",
              "      <th>Plainsboro, NJ</th>\n",
              "      <td>2</td>\n",
              "    </tr>\n",
              "    <tr>\n",
              "      <th>Toronto, Canada</th>\n",
              "      <td>2</td>\n",
              "    </tr>\n",
              "    <tr>\n",
              "      <th>Germantown, MD</th>\n",
              "      <td>2</td>\n",
              "    </tr>\n",
              "    <tr>\n",
              "      <th>Kansas City, MO</th>\n",
              "      <td>2</td>\n",
              "    </tr>\n",
              "    <tr>\n",
              "      <th>Winston-Salem, NC</th>\n",
              "      <td>2</td>\n",
              "    </tr>\n",
              "    <tr>\n",
              "      <th>Huntsville, AL</th>\n",
              "      <td>2</td>\n",
              "    </tr>\n",
              "    <tr>\n",
              "      <th>New York, 061</th>\n",
              "      <td>2</td>\n",
              "    </tr>\n",
              "    <tr>\n",
              "      <th>Wilmington, MA</th>\n",
              "      <td>2</td>\n",
              "    </tr>\n",
              "    <tr>\n",
              "      <th>Danville, CA</th>\n",
              "      <td>2</td>\n",
              "    </tr>\n",
              "    <tr>\n",
              "      <th>Columbia, MD</th>\n",
              "      <td>2</td>\n",
              "    </tr>\n",
              "    <tr>\n",
              "      <th>San Carlos, CA</th>\n",
              "      <td>2</td>\n",
              "    </tr>\n",
              "    <tr>\n",
              "      <th>North Brunswick, NJ</th>\n",
              "      <td>2</td>\n",
              "    </tr>\n",
              "    <tr>\n",
              "      <th>Edison, NJ</th>\n",
              "      <td>2</td>\n",
              "    </tr>\n",
              "    <tr>\n",
              "      <th>Kent, OH</th>\n",
              "      <td>2</td>\n",
              "    </tr>\n",
              "    <tr>\n",
              "      <th>Leesburg, VA</th>\n",
              "      <td>2</td>\n",
              "    </tr>\n",
              "    <tr>\n",
              "      <th>Saint Paul, MN</th>\n",
              "      <td>2</td>\n",
              "    </tr>\n",
              "    <tr>\n",
              "      <th>London, United Kingdom</th>\n",
              "      <td>2</td>\n",
              "    </tr>\n",
              "    <tr>\n",
              "      <th>Cincinnati, OH</th>\n",
              "      <td>2</td>\n",
              "    </tr>\n",
              "    <tr>\n",
              "      <th>Brentford, United Kingdom</th>\n",
              "      <td>2</td>\n",
              "    </tr>\n",
              "    <tr>\n",
              "      <th>Fremont, CA</th>\n",
              "      <td>2</td>\n",
              "    </tr>\n",
              "    <tr>\n",
              "      <th>Irvine, CA</th>\n",
              "      <td>2</td>\n",
              "    </tr>\n",
              "    <tr>\n",
              "      <th>Somerset, NJ</th>\n",
              "      <td>2</td>\n",
              "    </tr>\n",
              "    <tr>\n",
              "      <th>Scotts Valley, CA</th>\n",
              "      <td>2</td>\n",
              "    </tr>\n",
              "    <tr>\n",
              "      <th>Lynchburg, VA</th>\n",
              "      <td>2</td>\n",
              "    </tr>\n",
              "    <tr>\n",
              "      <th>Stamford, CT</th>\n",
              "      <td>2</td>\n",
              "    </tr>\n",
              "    <tr>\n",
              "      <th>San Mateo, CA</th>\n",
              "      <td>2</td>\n",
              "    </tr>\n",
              "    <tr>\n",
              "      <th>Holmdel, NJ</th>\n",
              "      <td>2</td>\n",
              "    </tr>\n",
              "    <tr>\n",
              "      <th>South Jordan, UT</th>\n",
              "      <td>2</td>\n",
              "    </tr>\n",
              "    <tr>\n",
              "      <th>Emeryville, CA</th>\n",
              "      <td>2</td>\n",
              "    </tr>\n",
              "    <tr>\n",
              "      <th>Hamilton, Bermuda</th>\n",
              "      <td>2</td>\n",
              "    </tr>\n",
              "    <tr>\n",
              "      <th>San Ramon, CA</th>\n",
              "      <td>2</td>\n",
              "    </tr>\n",
              "    <tr>\n",
              "      <th>OSAKA, Japan</th>\n",
              "      <td>2</td>\n",
              "    </tr>\n",
              "    <tr>\n",
              "      <th>Singapore, Singapore</th>\n",
              "      <td>2</td>\n",
              "    </tr>\n",
              "    <tr>\n",
              "      <th>Santa Monica, CA</th>\n",
              "      <td>2</td>\n",
              "    </tr>\n",
              "    <tr>\n",
              "      <th>Sheboygan, WI</th>\n",
              "      <td>2</td>\n",
              "    </tr>\n",
              "    <tr>\n",
              "      <th>Lexington, MA</th>\n",
              "      <td>2</td>\n",
              "    </tr>\n",
              "    <tr>\n",
              "      <th>Menlo Park, CA</th>\n",
              "      <td>2</td>\n",
              "    </tr>\n",
              "    <tr>\n",
              "      <th>Mays Landing, NJ</th>\n",
              "      <td>2</td>\n",
              "    </tr>\n",
              "    <tr>\n",
              "      <th>Northbrook, IL</th>\n",
              "      <td>2</td>\n",
              "    </tr>\n",
              "    <tr>\n",
              "      <th>Santa Barbara, CA</th>\n",
              "      <td>2</td>\n",
              "    </tr>\n",
              "    <tr>\n",
              "      <th>Lehi, UT</th>\n",
              "      <td>2</td>\n",
              "    </tr>\n",
              "    <tr>\n",
              "      <th>Chevy Chase, MD</th>\n",
              "      <td>2</td>\n",
              "    </tr>\n",
              "    <tr>\n",
              "      <th>Greenville, SC</th>\n",
              "      <td>2</td>\n",
              "    </tr>\n",
              "    <tr>\n",
              "      <th>Saxonburg, PA</th>\n",
              "      <td>1</td>\n",
              "    </tr>\n",
              "    <tr>\n",
              "      <th>Livonia, MI</th>\n",
              "      <td>1</td>\n",
              "    </tr>\n",
              "    <tr>\n",
              "      <th>Glen Allen, VA</th>\n",
              "      <td>1</td>\n",
              "    </tr>\n",
              "    <tr>\n",
              "      <th>Blue Bell, PA</th>\n",
              "      <td>1</td>\n",
              "    </tr>\n",
              "    <tr>\n",
              "      <th>Chadds Ford, PA</th>\n",
              "      <td>1</td>\n",
              "    </tr>\n",
              "    <tr>\n",
              "      <th>Trumbull, CT</th>\n",
              "      <td>1</td>\n",
              "    </tr>\n",
              "    <tr>\n",
              "      <th>Armonk, NY</th>\n",
              "      <td>1</td>\n",
              "    </tr>\n",
              "    <tr>\n",
              "      <th>Ventura, CA</th>\n",
              "      <td>1</td>\n",
              "    </tr>\n",
              "    <tr>\n",
              "      <th>Aurora, Canada</th>\n",
              "      <td>1</td>\n",
              "    </tr>\n",
              "    <tr>\n",
              "      <th>Chandler, AZ</th>\n",
              "      <td>1</td>\n",
              "    </tr>\n",
              "    <tr>\n",
              "      <th>Ewing, NJ</th>\n",
              "      <td>1</td>\n",
              "    </tr>\n",
              "    <tr>\n",
              "      <th>Ashburn, VA</th>\n",
              "      <td>1</td>\n",
              "    </tr>\n",
              "    <tr>\n",
              "      <th>Clifton Park, NY</th>\n",
              "      <td>1</td>\n",
              "    </tr>\n",
              "    <tr>\n",
              "      <th>Reading, PA</th>\n",
              "      <td>1</td>\n",
              "    </tr>\n",
              "    <tr>\n",
              "      <th>Omaha, NE</th>\n",
              "      <td>1</td>\n",
              "    </tr>\n",
              "    <tr>\n",
              "      <th>Columbia, MO</th>\n",
              "      <td>1</td>\n",
              "    </tr>\n",
              "    <tr>\n",
              "      <th>Alpharetta, GA</th>\n",
              "      <td>1</td>\n",
              "    </tr>\n",
              "    <tr>\n",
              "      <th>Bengaluru, India</th>\n",
              "      <td>1</td>\n",
              "    </tr>\n",
              "    <tr>\n",
              "      <th>Marcy-l'Etoile, France</th>\n",
              "      <td>1</td>\n",
              "    </tr>\n",
              "    <tr>\n",
              "      <th>Hanover, MD</th>\n",
              "      <td>1</td>\n",
              "    </tr>\n",
              "    <tr>\n",
              "      <th>Hilliard, OH</th>\n",
              "      <td>1</td>\n",
              "    </tr>\n",
              "    <tr>\n",
              "      <th>New Orleans, LA</th>\n",
              "      <td>1</td>\n",
              "    </tr>\n",
              "    <tr>\n",
              "      <th>Half Moon Bay, CA</th>\n",
              "      <td>1</td>\n",
              "    </tr>\n",
              "    <tr>\n",
              "      <th>Akron, OH</th>\n",
              "      <td>1</td>\n",
              "    </tr>\n",
              "    <tr>\n",
              "      <th>Phila, PA</th>\n",
              "      <td>1</td>\n",
              "    </tr>\n",
              "    <tr>\n",
              "      <th>Troy, MI</th>\n",
              "      <td>1</td>\n",
              "    </tr>\n",
              "    <tr>\n",
              "      <th>Tempe, AZ</th>\n",
              "      <td>1</td>\n",
              "    </tr>\n",
              "    <tr>\n",
              "      <th>Zurich, Switzerland</th>\n",
              "      <td>1</td>\n",
              "    </tr>\n",
              "    <tr>\n",
              "      <th>Rancho Cucamonga, CA</th>\n",
              "      <td>1</td>\n",
              "    </tr>\n",
              "    <tr>\n",
              "      <th>Utica, MI</th>\n",
              "      <td>1</td>\n",
              "    </tr>\n",
              "    <tr>\n",
              "      <th>West Chester, PA</th>\n",
              "      <td>1</td>\n",
              "    </tr>\n",
              "    <tr>\n",
              "      <th>San Bruno, CA</th>\n",
              "      <td>1</td>\n",
              "    </tr>\n",
              "    <tr>\n",
              "      <th>Oakville, Canada</th>\n",
              "      <td>1</td>\n",
              "    </tr>\n",
              "    <tr>\n",
              "      <th>Littleton, CO</th>\n",
              "      <td>1</td>\n",
              "    </tr>\n",
              "    <tr>\n",
              "      <th>Orange, CA</th>\n",
              "      <td>1</td>\n",
              "    </tr>\n",
              "    <tr>\n",
              "      <th>Albertville, AL</th>\n",
              "      <td>1</td>\n",
              "    </tr>\n",
              "    <tr>\n",
              "      <th>Plano, TX</th>\n",
              "      <td>1</td>\n",
              "    </tr>\n",
              "    <tr>\n",
              "      <th>Langley, VA</th>\n",
              "      <td>1</td>\n",
              "    </tr>\n",
              "    <tr>\n",
              "      <th>Albuquerque, NM</th>\n",
              "      <td>1</td>\n",
              "    </tr>\n",
              "    <tr>\n",
              "      <th>Simi Valley, CA</th>\n",
              "      <td>1</td>\n",
              "    </tr>\n",
              "    <tr>\n",
              "      <th>Cherry Hill, NJ</th>\n",
              "      <td>1</td>\n",
              "    </tr>\n",
              "    <tr>\n",
              "      <th>Marbella, Spain</th>\n",
              "      <td>1</td>\n",
              "    </tr>\n",
              "    <tr>\n",
              "      <th>Milan, IL</th>\n",
              "      <td>1</td>\n",
              "    </tr>\n",
              "    <tr>\n",
              "      <th>Rome, NY</th>\n",
              "      <td>1</td>\n",
              "    </tr>\n",
              "    <tr>\n",
              "      <th>Totowa, NJ</th>\n",
              "      <td>1</td>\n",
              "    </tr>\n",
              "    <tr>\n",
              "      <th>Tampa, FL</th>\n",
              "      <td>1</td>\n",
              "    </tr>\n",
              "    <tr>\n",
              "      <th>Bad Ragaz, Switzerland</th>\n",
              "      <td>1</td>\n",
              "    </tr>\n",
              "    <tr>\n",
              "      <th>Harrisburg, PA</th>\n",
              "      <td>1</td>\n",
              "    </tr>\n",
              "    <tr>\n",
              "      <th>Honolulu, HI</th>\n",
              "      <td>1</td>\n",
              "    </tr>\n",
              "    <tr>\n",
              "      <th>Lombard, IL</th>\n",
              "      <td>1</td>\n",
              "    </tr>\n",
              "    <tr>\n",
              "      <th>Redwood City, CA</th>\n",
              "      <td>1</td>\n",
              "    </tr>\n",
              "    <tr>\n",
              "      <th>Madison, WI</th>\n",
              "      <td>1</td>\n",
              "    </tr>\n",
              "    <tr>\n",
              "      <th>Wilsonville, OR</th>\n",
              "      <td>1</td>\n",
              "    </tr>\n",
              "    <tr>\n",
              "      <th>Bristol, PA</th>\n",
              "      <td>1</td>\n",
              "    </tr>\n",
              "    <tr>\n",
              "      <th>Lake Buena Vista, FL</th>\n",
              "      <td>1</td>\n",
              "    </tr>\n",
              "    <tr>\n",
              "      <th>Monroe, WI</th>\n",
              "      <td>1</td>\n",
              "    </tr>\n",
              "    <tr>\n",
              "      <th>Burlingame, CA</th>\n",
              "      <td>1</td>\n",
              "    </tr>\n",
              "    <tr>\n",
              "      <th>Oshkosh, WI</th>\n",
              "      <td>1</td>\n",
              "    </tr>\n",
              "    <tr>\n",
              "      <th>Beavercreek, OH</th>\n",
              "      <td>1</td>\n",
              "    </tr>\n",
              "    <tr>\n",
              "      <th>Schaumburg, IL</th>\n",
              "      <td>1</td>\n",
              "    </tr>\n",
              "    <tr>\n",
              "      <th>Manalapan, NJ</th>\n",
              "      <td>1</td>\n",
              "    </tr>\n",
              "    <tr>\n",
              "      <th>Dallas, TX</th>\n",
              "      <td>1</td>\n",
              "    </tr>\n",
              "    <tr>\n",
              "      <th>Lake Oswego, OR</th>\n",
              "      <td>1</td>\n",
              "    </tr>\n",
              "    <tr>\n",
              "      <th>Livermore, CA</th>\n",
              "      <td>1</td>\n",
              "    </tr>\n",
              "    <tr>\n",
              "      <th>Philadelphia, PA</th>\n",
              "      <td>1</td>\n",
              "    </tr>\n",
              "    <tr>\n",
              "      <th>Danvers, MA</th>\n",
              "      <td>1</td>\n",
              "    </tr>\n",
              "    <tr>\n",
              "      <th>Piscataway, NJ</th>\n",
              "      <td>1</td>\n",
              "    </tr>\n",
              "    <tr>\n",
              "      <th>Holyoke, MA</th>\n",
              "      <td>1</td>\n",
              "    </tr>\n",
              "    <tr>\n",
              "      <th>Dulles, VA</th>\n",
              "      <td>1</td>\n",
              "    </tr>\n",
              "    <tr>\n",
              "      <th>Cleveland, OH</th>\n",
              "      <td>1</td>\n",
              "    </tr>\n",
              "    <tr>\n",
              "      <th>Birmingham, AL</th>\n",
              "      <td>1</td>\n",
              "    </tr>\n",
              "    <tr>\n",
              "      <th>Tucson, AZ</th>\n",
              "      <td>1</td>\n",
              "    </tr>\n",
              "    <tr>\n",
              "      <th>Detroit, MI</th>\n",
              "      <td>1</td>\n",
              "    </tr>\n",
              "    <tr>\n",
              "      <th>Santa Ana, CA</th>\n",
              "      <td>1</td>\n",
              "    </tr>\n",
              "    <tr>\n",
              "      <th>Greenwich, CT</th>\n",
              "      <td>1</td>\n",
              "    </tr>\n",
              "    <tr>\n",
              "      <th>Charlotte, NC</th>\n",
              "      <td>1</td>\n",
              "    </tr>\n",
              "    <tr>\n",
              "      <th>Hoboken, NJ</th>\n",
              "      <td>1</td>\n",
              "    </tr>\n",
              "    <tr>\n",
              "      <th>Bangalore, India</th>\n",
              "      <td>1</td>\n",
              "    </tr>\n",
              "    <tr>\n",
              "      <th>Goteborg, Sweden</th>\n",
              "      <td>1</td>\n",
              "    </tr>\n",
              "    <tr>\n",
              "      <th>Schaffhausen, Switzerland</th>\n",
              "      <td>1</td>\n",
              "    </tr>\n",
              "    <tr>\n",
              "      <th>Coral Gables, FL</th>\n",
              "      <td>1</td>\n",
              "    </tr>\n",
              "    <tr>\n",
              "      <th>Richmond, VA</th>\n",
              "      <td>1</td>\n",
              "    </tr>\n",
              "    <tr>\n",
              "      <th>Reading, MA</th>\n",
              "      <td>1</td>\n",
              "    </tr>\n",
              "    <tr>\n",
              "      <th>Columbia, SC</th>\n",
              "      <td>1</td>\n",
              "    </tr>\n",
              "    <tr>\n",
              "      <th>Brisbane, CA</th>\n",
              "      <td>1</td>\n",
              "    </tr>\n",
              "    <tr>\n",
              "      <th>Deerfield, IL</th>\n",
              "      <td>1</td>\n",
              "    </tr>\n",
              "    <tr>\n",
              "      <th>Ipswich, MA</th>\n",
              "      <td>1</td>\n",
              "    </tr>\n",
              "    <tr>\n",
              "      <th>Carmel, IN</th>\n",
              "      <td>1</td>\n",
              "    </tr>\n",
              "    <tr>\n",
              "      <th>Benicia, CA</th>\n",
              "      <td>1</td>\n",
              "    </tr>\n",
              "    <tr>\n",
              "      <th>Spartanburg, SC</th>\n",
              "      <td>1</td>\n",
              "    </tr>\n",
              "    <tr>\n",
              "      <th>Woodbridge, NJ</th>\n",
              "      <td>1</td>\n",
              "    </tr>\n",
              "    <tr>\n",
              "      <th>Yakima, WA</th>\n",
              "      <td>1</td>\n",
              "    </tr>\n",
              "    <tr>\n",
              "      <th>Durham, NC</th>\n",
              "      <td>1</td>\n",
              "    </tr>\n",
              "    <tr>\n",
              "      <th>Chennai, India</th>\n",
              "      <td>1</td>\n",
              "    </tr>\n",
              "    <tr>\n",
              "      <th>Tel Aviv-Yafo, Israel</th>\n",
              "      <td>1</td>\n",
              "    </tr>\n",
              "    <tr>\n",
              "      <th>Aurora, CO</th>\n",
              "      <td>1</td>\n",
              "    </tr>\n",
              "    <tr>\n",
              "      <th>Carpinteria, CA</th>\n",
              "      <td>1</td>\n",
              "    </tr>\n",
              "    <tr>\n",
              "      <th>Goleta, CA</th>\n",
              "      <td>1</td>\n",
              "    </tr>\n",
              "    <tr>\n",
              "      <th>Franklin, TN</th>\n",
              "      <td>1</td>\n",
              "    </tr>\n",
              "    <tr>\n",
              "      <th>Lutherville Timonium, MD</th>\n",
              "      <td>1</td>\n",
              "    </tr>\n",
              "    <tr>\n",
              "      <th>Beltsville, MD</th>\n",
              "      <td>1</td>\n",
              "    </tr>\n",
              "    <tr>\n",
              "      <th>Irving, TX</th>\n",
              "      <td>1</td>\n",
              "    </tr>\n",
              "    <tr>\n",
              "      <th>Scottsdale, AZ</th>\n",
              "      <td>1</td>\n",
              "    </tr>\n",
              "    <tr>\n",
              "      <th>Greensboro, NC</th>\n",
              "      <td>1</td>\n",
              "    </tr>\n",
              "    <tr>\n",
              "      <th>Newark, CA</th>\n",
              "      <td>1</td>\n",
              "    </tr>\n",
              "    <tr>\n",
              "      <th>Fort Lee, NJ</th>\n",
              "      <td>1</td>\n",
              "    </tr>\n",
              "  </tbody>\n",
              "</table>\n",
              "</div><br><label><b>dtype:</b> int64</label>"
            ],
            "text/plain": [
              "Headquarters\n",
              "New York, NY                 33\n",
              "-1                           31\n",
              "San Francisco, CA            31\n",
              "Chicago, IL                  23\n",
              "Boston, MA                   19\n",
              "Reston, VA                   14\n",
              "Mc Lean, VA                  13\n",
              "Westminster, CO              12\n",
              "Cambridge, United Kingdom    10\n",
              "Cambridge, MA                10\n",
              "Vienna, VA                    8\n",
              "Denver, CO                    7\n",
              "Herndon, VA                   7\n",
              "Washington, DC                7\n",
              "Woodbine, MD                  7\n",
              "Saint Louis, MO               7\n",
              "Bedford, MA                   7\n",
              "Arlington, VA                 7\n",
              "San Jose, CA                  7\n",
              "San Antonio, TX               6\n",
              "Mountain View, CA             6\n",
              "Basel, Switzerland            6\n",
              "San Rafael, CA                6\n",
              "Chantilly, VA                 6\n",
              "Fairfax, VA                   5\n",
              "Houston, TX                   5\n",
              "Pittsburgh, PA                5\n",
              "Bethesda, MD                  5\n",
              "Rockville, MD                 5\n",
              "Los Angeles, CA               5\n",
              "Springfield, MA               5\n",
              "Bellevue, WA                  5\n",
              "Princeton, NJ                 5\n",
              "Annapolis Junction, MD        4\n",
              "Cedar Rapids, IA              4\n",
              "South San Francisco, CA       4\n",
              "McLean, VA                    4\n",
              "Falls Church, VA              4\n",
              "Orlando, FL                   4\n",
              "Pleasanton, CA                4\n",
              "Raleigh, NC                   4\n",
              "Aliso Viejo, CA               4\n",
              "Santa Clara, CA               4\n",
              "Santa Cruz, CA                4\n",
              "San Diego, CA                 4\n",
              "Austin, TX                    4\n",
              "Palo Alto, CA                 4\n",
              "Memphis, TN                   4\n",
              "Indianapolis, IN              3\n",
              "Paris, France                 3\n",
              "Naperville, IL                3\n",
              "Atlanta, GA                   3\n",
              "Hillsborough, NJ              3\n",
              "Sunnyvale, CA                 3\n",
              "Minneapolis, MN               3\n",
              "Laurel, MD                    3\n",
              "Columbus, OH                  3\n",
              "Winter Park, FL               3\n",
              "Alexandria, VA                3\n",
              "Lincoln, NE                   3\n",
              "Jersey City, NJ               3\n",
              "Woburn, MA                    3\n",
              "Carson, CA                    3\n",
              "Folsom, CA                    3\n",
              "Westlake Village, CA          3\n",
              "Richland, WA                  3\n",
              "Seattle, WA                   3\n",
              "Maple Plain, MN               3\n",
              "Hartford, CT                  3\n",
              "Fort Worth, TX                2\n",
              "Lorton, VA                    2\n",
              "Itasca, IL                    2\n",
              "Carle Place, NY               2\n",
              "Fairmont, WV                  2\n",
              "Kent, WA                      2\n",
              "Coconut Creek, FL             2\n",
              "Cupertino, CA                 2\n",
              "Waltham, MA                   2\n",
              "Baltimore, MD                 2\n",
              "Nashville, TN                 2\n",
              "Plainsboro, NJ                2\n",
              "Toronto, Canada               2\n",
              "Germantown, MD                2\n",
              "Kansas City, MO               2\n",
              "Winston-Salem, NC             2\n",
              "Huntsville, AL                2\n",
              "New York, 061                 2\n",
              "Wilmington, MA                2\n",
              "Danville, CA                  2\n",
              "Columbia, MD                  2\n",
              "San Carlos, CA                2\n",
              "North Brunswick, NJ           2\n",
              "Edison, NJ                    2\n",
              "Kent, OH                      2\n",
              "Leesburg, VA                  2\n",
              "Saint Paul, MN                2\n",
              "London, United Kingdom        2\n",
              "Cincinnati, OH                2\n",
              "Brentford, United Kingdom     2\n",
              "Fremont, CA                   2\n",
              "Irvine, CA                    2\n",
              "Somerset, NJ                  2\n",
              "Scotts Valley, CA             2\n",
              "Lynchburg, VA                 2\n",
              "Stamford, CT                  2\n",
              "San Mateo, CA                 2\n",
              "Holmdel, NJ                   2\n",
              "South Jordan, UT              2\n",
              "Emeryville, CA                2\n",
              "Hamilton, Bermuda             2\n",
              "San Ramon, CA                 2\n",
              "OSAKA, Japan                  2\n",
              "Singapore, Singapore          2\n",
              "Santa Monica, CA              2\n",
              "Sheboygan, WI                 2\n",
              "Lexington, MA                 2\n",
              "Menlo Park, CA                2\n",
              "Mays Landing, NJ              2\n",
              "Northbrook, IL                2\n",
              "Santa Barbara, CA             2\n",
              "Lehi, UT                      2\n",
              "Chevy Chase, MD               2\n",
              "Greenville, SC                2\n",
              "Saxonburg, PA                 1\n",
              "Livonia, MI                   1\n",
              "Glen Allen, VA                1\n",
              "Blue Bell, PA                 1\n",
              "Chadds Ford, PA               1\n",
              "Trumbull, CT                  1\n",
              "Armonk, NY                    1\n",
              "Ventura, CA                   1\n",
              "Aurora, Canada                1\n",
              "Chandler, AZ                  1\n",
              "Ewing, NJ                     1\n",
              "Ashburn, VA                   1\n",
              "Clifton Park, NY              1\n",
              "Reading, PA                   1\n",
              "Omaha, NE                     1\n",
              "Columbia, MO                  1\n",
              "Alpharetta, GA                1\n",
              "Bengaluru, India              1\n",
              "Marcy-l'Etoile, France        1\n",
              "Hanover, MD                   1\n",
              "Hilliard, OH                  1\n",
              "New Orleans, LA               1\n",
              "Half Moon Bay, CA             1\n",
              "Akron, OH                     1\n",
              "Phila, PA                     1\n",
              "Troy, MI                      1\n",
              "Tempe, AZ                     1\n",
              "Zurich, Switzerland           1\n",
              "Rancho Cucamonga, CA          1\n",
              "Utica, MI                     1\n",
              "West Chester, PA              1\n",
              "San Bruno, CA                 1\n",
              "Oakville, Canada              1\n",
              "Littleton, CO                 1\n",
              "Orange, CA                    1\n",
              "Albertville, AL               1\n",
              "Plano, TX                     1\n",
              "Langley, VA                   1\n",
              "Albuquerque, NM               1\n",
              "Simi Valley, CA               1\n",
              "Cherry Hill, NJ               1\n",
              "Marbella, Spain               1\n",
              "Milan, IL                     1\n",
              "Rome, NY                      1\n",
              "Totowa, NJ                    1\n",
              "Tampa, FL                     1\n",
              "Bad Ragaz, Switzerland        1\n",
              "Harrisburg, PA                1\n",
              "Honolulu, HI                  1\n",
              "Lombard, IL                   1\n",
              "Redwood City, CA              1\n",
              "Madison, WI                   1\n",
              "Wilsonville, OR               1\n",
              "Bristol, PA                   1\n",
              "Lake Buena Vista, FL          1\n",
              "Monroe, WI                    1\n",
              "Burlingame, CA                1\n",
              "Oshkosh, WI                   1\n",
              "Beavercreek, OH               1\n",
              "Schaumburg, IL                1\n",
              "Manalapan, NJ                 1\n",
              "Dallas, TX                    1\n",
              "Lake Oswego, OR               1\n",
              "Livermore, CA                 1\n",
              "Philadelphia, PA              1\n",
              "Danvers, MA                   1\n",
              "Piscataway, NJ                1\n",
              "Holyoke, MA                   1\n",
              "Dulles, VA                    1\n",
              "Cleveland, OH                 1\n",
              "Birmingham, AL                1\n",
              "Tucson, AZ                    1\n",
              "Detroit, MI                   1\n",
              "Santa Ana, CA                 1\n",
              "Greenwich, CT                 1\n",
              "Charlotte, NC                 1\n",
              "Hoboken, NJ                   1\n",
              "Bangalore, India              1\n",
              "Goteborg, Sweden              1\n",
              "Schaffhausen, Switzerland     1\n",
              "Coral Gables, FL              1\n",
              "Richmond, VA                  1\n",
              "Reading, MA                   1\n",
              "Columbia, SC                  1\n",
              "Brisbane, CA                  1\n",
              "Deerfield, IL                 1\n",
              "Ipswich, MA                   1\n",
              "Carmel, IN                    1\n",
              "Benicia, CA                   1\n",
              "Spartanburg, SC               1\n",
              "Woodbridge, NJ                1\n",
              "Yakima, WA                    1\n",
              "Durham, NC                    1\n",
              "Chennai, India                1\n",
              "Tel Aviv-Yafo, Israel         1\n",
              "Aurora, CO                    1\n",
              "Carpinteria, CA               1\n",
              "Goleta, CA                    1\n",
              "Franklin, TN                  1\n",
              "Lutherville Timonium, MD      1\n",
              "Beltsville, MD                1\n",
              "Irving, TX                    1\n",
              "Scottsdale, AZ                1\n",
              "Greensboro, NC                1\n",
              "Newark, CA                    1\n",
              "Fort Lee, NJ                  1\n",
              "Name: count, dtype: int64"
            ]
          },
          "metadata": {},
          "output_type": "display_data"
        },
        {
          "name": "stdout",
          "output_type": "stream",
          "text": [
            "\n"
          ]
        }
      ],
      "source": [
        "kolom = 'Headquarters'\n",
        "print(f\"============= {kolom} =================\")\n",
        "display(df_company[kolom].value_counts())\n",
        "print()"
      ]
    },
    {
      "cell_type": "markdown",
      "id": "DklZiyf-DyCg",
      "metadata": {
        "id": "DklZiyf-DyCg"
      },
      "source": [
        "insight:\n",
        "\n",
        "Terdapat Missing value pada kolom headquarters dengan nilai **-1**"
      ]
    },
    {
      "cell_type": "markdown",
      "id": "2_IVuuBRzfFv",
      "metadata": {
        "id": "2_IVuuBRzfFv"
      },
      "source": [
        "IDENTIFYING PERCENTAGE (%) MISSING DATA"
      ]
    },
    {
      "cell_type": "code",
      "execution_count": null,
      "id": "556797d3",
      "metadata": {
        "colab": {
          "base_uri": "https://localhost:8080/"
        },
        "id": "556797d3",
        "outputId": "cd26c1dd-e931-4850-c5a3-22eb52270f84"
      },
      "outputs": [
        {
          "data": {
            "text/plain": [
              "4.613095238095238"
            ]
          },
          "execution_count": 10,
          "metadata": {},
          "output_type": "execute_result"
        }
      ],
      "source": [
        "#Tulis jawaban missing value handling kolom Headquarters disini\n",
        "100 * len(df_company[(df_company['Headquarters'] == '-1') | (df_company['Headquarters'].isna())]) / len(df_company)"
      ]
    },
    {
      "cell_type": "markdown",
      "id": "5jQho-e5xT8V",
      "metadata": {
        "id": "5jQho-e5xT8V"
      },
      "source": [
        "Insight:\n",
        "\n",
        "Menunjukkan bahwa 4.61% dari total baris dalam DataFrame df_company memiliki nilai tidak valid di kolom **'Headquarters'** berupa -1 atau NaN, maka dilakukan handling dengan menggunakan modus"
      ]
    },
    {
      "cell_type": "markdown",
      "id": "538c184f",
      "metadata": {
        "id": "538c184f"
      },
      "source": [
        "### untuk tujuan machine learning"
      ]
    },
    {
      "cell_type": "code",
      "execution_count": null,
      "id": "3af535b3",
      "metadata": {
        "id": "3af535b3"
      },
      "outputs": [],
      "source": [
        "from sklearn.model_selection import train_test_split\n",
        "train_company, test_company = train_test_split(df_company, test_size = 0.2, random_state=42)\n",
        "#train : test = 80:20"
      ]
    },
    {
      "cell_type": "code",
      "execution_count": null,
      "id": "QOG3SAilxjf8",
      "metadata": {
        "id": "QOG3SAilxjf8"
      },
      "outputs": [],
      "source": [
        "#Mode imputation Untuk Headquarters\n",
        "train_mode_headquarters = train_company[~train_company['Headquarters'].isin(['-1'])]['Headquarters'].mode()[0]\n",
        "train_mode_headquarters"
      ]
    },
    {
      "cell_type": "markdown",
      "id": "aus1daBmxycp",
      "metadata": {
        "id": "aus1daBmxycp"
      },
      "source": [
        "insight:\n",
        "\n",
        "Menunjukkan bahwa 'New York, NY' adalah modus (nilai yang paling sering muncul) pada kolom 'Headquarters' dalam data train_company"
      ]
    },
    {
      "cell_type": "code",
      "execution_count": null,
      "id": "OrHi-QunztgD",
      "metadata": {
        "id": "OrHi-QunztgD"
      },
      "outputs": [],
      "source": [
        "#implement missing value imputation to train and test, from Headquarters mode value in train data\n",
        "train_company['Headquarters'] = train_company['Headquarters'].apply(lambda x: train_mode_headquarters if x in ['-1'] else x)\n",
        "test_company['Headquarters'] = test_company['Headquarters'].apply(lambda x: train_mode_headquarters if x in ['-1'] else x)"
      ]
    },
    {
      "cell_type": "code",
      "execution_count": null,
      "id": "SsLEy4zr3XGy",
      "metadata": {
        "id": "SsLEy4zr3XGy"
      },
      "outputs": [],
      "source": [
        "train_company['Headquarters'].isna().sum()"
      ]
    },
    {
      "cell_type": "code",
      "execution_count": null,
      "id": "HHSiUvi9zGx5",
      "metadata": {
        "id": "HHSiUvi9zGx5"
      },
      "outputs": [],
      "source": [
        "test_company['Headquarters'].isna().sum()"
      ]
    },
    {
      "cell_type": "markdown",
      "id": "hHy9pl4M4AHJ",
      "metadata": {
        "id": "hHy9pl4M4AHJ"
      },
      "source": [
        "Insight:\n",
        "\n",
        "Tidak terdapat Missing Value pada data train dan test"
      ]
    },
    {
      "cell_type": "markdown",
      "id": "c7cbf694",
      "metadata": {
        "id": "c7cbf694"
      },
      "source": [
        "### untuk exploratory data analysis"
      ]
    },
    {
      "cell_type": "code",
      "execution_count": null,
      "id": "c1e3f1c1",
      "metadata": {
        "id": "c1e3f1c1"
      },
      "outputs": [],
      "source": [
        "#Tulis jawaban missing value handling kolom Headquarters disini\n",
        "data_company = df_company.copy()"
      ]
    },
    {
      "cell_type": "code",
      "execution_count": null,
      "id": "UtW7zLzq40Ox",
      "metadata": {
        "colab": {
          "base_uri": "https://localhost:8080/",
          "height": 35
        },
        "id": "UtW7zLzq40Ox",
        "outputId": "f46e5d17-7bd3-4626-db61-36c89cca27d6"
      },
      "outputs": [
        {
          "data": {
            "application/vnd.google.colaboratory.intrinsic+json": {
              "type": "string"
            },
            "text/plain": [
              "'New York, NY'"
            ]
          },
          "execution_count": 12,
          "metadata": {},
          "output_type": "execute_result"
        }
      ],
      "source": [
        "#Mode imputation Untuk Headquarters\n",
        "mode_headquarters = data_company[~data_company['Headquarters'].isin(['-1'])]['Headquarters'].mode()[0]\n",
        "mode_headquarters"
      ]
    },
    {
      "cell_type": "markdown",
      "id": "ocn6sAekwfWx",
      "metadata": {
        "id": "ocn6sAekwfWx"
      },
      "source": [
        "insight:\n",
        "\n",
        "Menunjukkan bahwa 'New York, NY' adalah modus (nilai yang paling sering muncul) pada kolom 'Headquarters' dalam data_company"
      ]
    },
    {
      "cell_type": "code",
      "execution_count": null,
      "id": "P-3bjxqr5ZAb",
      "metadata": {
        "id": "P-3bjxqr5ZAb"
      },
      "outputs": [],
      "source": [
        "#implement missing value imputation to data_company from headquarters\n",
        "data_company['Headquarters'] = data_company['Headquarters'].apply(lambda x: mode_headquarters if x in ['-1'] else x)"
      ]
    },
    {
      "cell_type": "code",
      "execution_count": null,
      "id": "Y6dOki9X5rVX",
      "metadata": {
        "colab": {
          "base_uri": "https://localhost:8080/"
        },
        "id": "Y6dOki9X5rVX",
        "outputId": "28ba4b40-986c-44fc-cc87-7ae614cd2285"
      },
      "outputs": [
        {
          "data": {
            "text/plain": [
              "0"
            ]
          },
          "execution_count": 14,
          "metadata": {},
          "output_type": "execute_result"
        }
      ],
      "source": [
        "data_company['Headquarters'].isna().sum()"
      ]
    },
    {
      "cell_type": "markdown",
      "id": "wZIQlZMC6KN2",
      "metadata": {
        "id": "wZIQlZMC6KN2"
      },
      "source": [
        "Insight:\n",
        "\n",
        "Tidak Terdapat Missing Value pada data_company untuk exploratory data analysis"
      ]
    },
    {
      "cell_type": "markdown",
      "id": "05764fe7",
      "metadata": {
        "id": "05764fe7"
      },
      "source": [
        "# D. Encoding\n",
        "Definisi : Mengubah tipe kategorikal menjadi numerikal dengan pendekatan aturan encoding untuk persiapan sebelum dilakukannya machine learning modelling. Teknik Encoding yang umum dipakai :\n",
        "1. One Hot Encoding (OHE) : Lakukan pada kolom gender\n",
        "2. Label Encoding / Ordinal Encoding : Lakukan pada kolom Yes dan No, Jika Yes menjadi 1 , Jika No menjadi 0. Sebagai Contohnya di kolom  Partner, Dependents.\n",
        "3. Mean Encoding : Contract"
      ]
    },
    {
      "cell_type": "code",
      "execution_count": null,
      "id": "443f4b32",
      "metadata": {
        "id": "443f4b32"
      },
      "outputs": [],
      "source": [
        "df_churn = pd.read_csv('Telco-Customer-Churn.csv')\n",
        "# Mengganti \"Yes\" menjadi 1 dan \"No\" menjadi 0 dalam kolom \"Churn\"\n",
        "df_churn['Churn'] = df_churn['Churn'].replace({'Yes': 1, 'No': 0})\n",
        "df_churn.head()"
      ]
    },
    {
      "cell_type": "markdown",
      "id": "852684ce",
      "metadata": {
        "id": "852684ce"
      },
      "source": [
        "## Assignment 3.a Label Encoder :\n",
        "\n",
        "0. Lakukan label encoder pada 'Partner', 'Dependents' juga sama seperti yang telah dibahas dikelas, **lalu anda wajib melakukan** :\n",
        "1. Pilih kolom-kolom yang terindikasi bersifat Data Ordinal.\n",
        "2. Ganti nilai yang tidak sesuai : No internet service menjadi No lalu validasi dengan value_counts\n",
        "3. Kemudian lakukan label Encoder\n",
        "4. Lakukan untuk tujuan machine learning dan juga exploratory data analysis.\n",
        "5. Notes : gunakan Telco-Customer-Churn.csv"
      ]
    },
    {
      "cell_type": "code",
      "execution_count": null,
      "id": "d689ebaa",
      "metadata": {
        "id": "d689ebaa"
      },
      "outputs": [],
      "source": [
        "#Tulis jawaban\n",
        "from sklearn.preprocessing import LabelEncoder"
      ]
    },
    {
      "cell_type": "code",
      "execution_count": null,
      "id": "tJZ2zvTqG4Hv",
      "metadata": {
        "id": "tJZ2zvTqG4Hv"
      },
      "outputs": [],
      "source": [
        "df_churn.info()"
      ]
    },
    {
      "cell_type": "code",
      "execution_count": null,
      "id": "buaMI00FG8tx",
      "metadata": {
        "id": "buaMI00FG8tx"
      },
      "outputs": [],
      "source": [
        "df_churn.columns"
      ]
    },
    {
      "cell_type": "code",
      "execution_count": null,
      "id": "VxHWvx6UG-sn",
      "metadata": {
        "id": "VxHWvx6UG-sn"
      },
      "outputs": [],
      "source": [
        "#mengecek nilai-nilai di kolom kategorikal\n",
        "custom_columns = ['Partner','Dependents','PhoneService','MultipleLines',\n",
        "                  'InternetService','OnlineSecurity','OnlineBackup','DeviceProtection'\n",
        "                  ,'TechSupport','StreamingTV','StreamingMovies','Contract','PaperlessBilling','PaymentMethod','Churn']\n",
        "for column in custom_columns:\n",
        "    print(f\"============= {column} =================\")\n",
        "    display(df_churn[column].value_counts())\n",
        "    print()"
      ]
    },
    {
      "cell_type": "code",
      "execution_count": null,
      "id": "b2o56ranHvFa",
      "metadata": {
        "id": "b2o56ranHvFa"
      },
      "outputs": [],
      "source": [
        "#Lakukan normalisasi nilai terlebih dahulu\n",
        "df_churn['StreamingMovies'] = df_churn['StreamingMovies'].replace({'No internet service':'No'})\n",
        "df_churn['StreamingTV'] = df_churn['StreamingTV'].replace({'No internet service':'No'})\n",
        "df_churn['TechSupport'] = df_churn['TechSupport'].replace({'No internet service':'No'})\n",
        "df_churn['DeviceProtection'] = df_churn['DeviceProtection'].replace({'No internet service':'No'})\n",
        "df_churn['OnlineBackup'] = df_churn['OnlineBackup'].replace({'No internet service':'No'})\n",
        "df_churn['OnlineSecurity'] = df_churn['OnlineSecurity'].replace({'No internet service':'No'})\n",
        "df_churn['MultipleLines'] = df_churn['MultipleLines'].replace({'No phone service':'No'})"
      ]
    },
    {
      "cell_type": "code",
      "execution_count": null,
      "id": "eZROJBpNH1uS",
      "metadata": {
        "collapsed": true,
        "id": "eZROJBpNH1uS"
      },
      "outputs": [],
      "source": [
        "#mengecek kembali nilai-nilai di kolom kategorikal\n",
        "for column in custom_columns:\n",
        "    print(f\"============= {column} =================\")\n",
        "    display(df_churn[column].value_counts())\n",
        "    print()"
      ]
    },
    {
      "cell_type": "markdown",
      "id": "89c2aad3",
      "metadata": {
        "id": "89c2aad3"
      },
      "source": [
        "### untuk tujuan machine learning"
      ]
    },
    {
      "cell_type": "code",
      "execution_count": null,
      "id": "mvHokB3DW1Ab",
      "metadata": {
        "id": "mvHokB3DW1Ab"
      },
      "outputs": [],
      "source": [
        "from sklearn.model_selection import train_test_split\n",
        "train_churn, test_churn = train_test_split(df_churn, test_size = 0.2, random_state=42)"
      ]
    },
    {
      "cell_type": "code",
      "execution_count": null,
      "id": "514acd90",
      "metadata": {
        "id": "514acd90"
      },
      "outputs": [],
      "source": [
        "from sklearn.preprocessing import LabelEncoder\n",
        "\n",
        "# Kolom-kolom yang ingin di-label encode\n",
        "columns_to_encode = ['Partner', 'Dependents', 'PhoneService', 'MultipleLines' , 'OnlineSecurity', 'OnlineBackup', 'DeviceProtection', 'TechSupport', 'StreamingTV', 'StreamingMovies', 'PaperlessBilling']\n",
        "\n",
        "# Inisialisasi LabelEncoder\n",
        "label_encoder = LabelEncoder()"
      ]
    },
    {
      "cell_type": "code",
      "execution_count": null,
      "id": "D2Qw7kfRIpf6",
      "metadata": {
        "id": "D2Qw7kfRIpf6"
      },
      "outputs": [],
      "source": [
        "# Menerapkan label encoding ke data pelatihan (train)\n",
        "for col in columns_to_encode:\n",
        "    train_churn[col] = label_encoder.fit_transform(train_churn[col])"
      ]
    },
    {
      "cell_type": "code",
      "execution_count": null,
      "id": "0525gVoNIrGq",
      "metadata": {
        "id": "0525gVoNIrGq"
      },
      "outputs": [],
      "source": [
        "# Menerapkan label encoding yang sama ke data uji (test)\n",
        "for col in columns_to_encode:\n",
        "    test_churn[col] = label_encoder.transform(test_churn[col])"
      ]
    },
    {
      "cell_type": "code",
      "execution_count": null,
      "id": "zJHA3W_vIuKp",
      "metadata": {
        "id": "zJHA3W_vIuKp"
      },
      "outputs": [],
      "source": [
        "train_churn.head()"
      ]
    },
    {
      "cell_type": "code",
      "execution_count": null,
      "id": "0RlkI8JVI3RX",
      "metadata": {
        "id": "0RlkI8JVI3RX"
      },
      "outputs": [],
      "source": [
        "test_churn.head()"
      ]
    },
    {
      "cell_type": "markdown",
      "id": "b6ba219a",
      "metadata": {
        "id": "b6ba219a"
      },
      "source": [
        "### untuk exploratory data analysis"
      ]
    },
    {
      "cell_type": "code",
      "execution_count": null,
      "id": "m0_0OEOzJTvN",
      "metadata": {
        "id": "m0_0OEOzJTvN"
      },
      "outputs": [],
      "source": [
        "data_churn = df_churn.copy()"
      ]
    },
    {
      "cell_type": "code",
      "execution_count": null,
      "id": "d350fe6e",
      "metadata": {
        "id": "d350fe6e"
      },
      "outputs": [],
      "source": [
        "# Kolom-kolom yang ingin di-label encode\n",
        "columns_to_encode = ['Partner', 'Dependents','PhoneService', 'MultipleLines' , 'OnlineSecurity', 'OnlineBackup', 'DeviceProtection', 'TechSupport', 'StreamingTV', 'StreamingMovies', 'PaperlessBilling']\n",
        "\n",
        "# Inisialisasi LabelEncoder\n",
        "labelEncoder = LabelEncoder()"
      ]
    },
    {
      "cell_type": "code",
      "execution_count": null,
      "id": "zI9IF-qPJC1u",
      "metadata": {
        "id": "zI9IF-qPJC1u"
      },
      "outputs": [],
      "source": [
        "# Menerapkan label encoding ke data pelatihan (train)\n",
        "for col in columns_to_encode:\n",
        "    data_churn[col] = labelEncoder.fit_transform(data_churn[col])\n",
        "#fit dilakukan di data train dan implementasikan ke train, kemudian lakukan transform ke data test. Untuk mencegah data leakage"
      ]
    },
    {
      "cell_type": "code",
      "execution_count": null,
      "id": "TKX_1AmNJV7T",
      "metadata": {
        "id": "TKX_1AmNJV7T"
      },
      "outputs": [],
      "source": [
        "data_churn.head()"
      ]
    },
    {
      "cell_type": "markdown",
      "id": "8d8087f1",
      "metadata": {
        "id": "8d8087f1"
      },
      "source": [
        "##  Mean Encoding\n",
        "1. Lakukan kolom Mean Encoding pada InternetService"
      ]
    },
    {
      "cell_type": "markdown",
      "id": "2ca9e890",
      "metadata": {
        "id": "2ca9e890"
      },
      "source": [
        "### untuk tujuan machine learning"
      ]
    },
    {
      "cell_type": "code",
      "execution_count": null,
      "id": "e05669d4",
      "metadata": {
        "id": "e05669d4"
      },
      "outputs": [],
      "source": [
        "# Tulis jawaban\n",
        "train_churn.head()"
      ]
    },
    {
      "cell_type": "code",
      "execution_count": null,
      "id": "e6270770",
      "metadata": {
        "id": "e6270770"
      },
      "outputs": [],
      "source": [
        "dict_internetservice = train_churn.groupby(['InternetService'])['Churn'].mean().to_dict()\n",
        "dict_internetservice"
      ]
    },
    {
      "cell_type": "markdown",
      "id": "BC_Ot0fOKckH",
      "metadata": {
        "id": "BC_Ot0fOKckH"
      },
      "source": [
        "Insight:\n",
        "1. DSL memiliki rata-rata tingkat Churn sekitar 19.18%, yang berarti sekitar 19.18% dari Customer dengan kategori Churn.\n",
        "2. Fiber optic memiliki rata-rata tingkat Churn sekitar 41.55%, yang berarti sekitar 41.55% dari Customer dengan kategori Churn.\n",
        "3. No memiliki rata-rata tingkat Churn sekitar 7.66%, yang berarti sekitar 7.66% dari Customer dengan kategori Churn."
      ]
    },
    {
      "cell_type": "code",
      "execution_count": null,
      "id": "ZiSF8QJ2LUmd",
      "metadata": {
        "id": "ZiSF8QJ2LUmd"
      },
      "outputs": [],
      "source": [
        "# Mengubah nilai kategorikal di data train dan test pada kolom InternetService menggunakan nilai dari dict_internetservice\n",
        "# untuk mencegah data leakage\n",
        "train_churn['InternetService'] = train_churn['InternetService'].map(dict_internetservice)\n",
        "test_churn['InternetService'] = test_churn['InternetService'].map(dict_internetservice)"
      ]
    },
    {
      "cell_type": "code",
      "execution_count": null,
      "id": "BUAmoSzVLuSH",
      "metadata": {
        "id": "BUAmoSzVLuSH"
      },
      "outputs": [],
      "source": [
        "train_churn.head()"
      ]
    },
    {
      "cell_type": "code",
      "execution_count": null,
      "id": "leVszBcGCP6l",
      "metadata": {
        "id": "leVszBcGCP6l"
      },
      "outputs": [],
      "source": [
        "test_churn.head()"
      ]
    },
    {
      "cell_type": "markdown",
      "id": "af1ff1c2",
      "metadata": {
        "id": "af1ff1c2"
      },
      "source": [
        "### untuk exploratory data analysis"
      ]
    },
    {
      "cell_type": "code",
      "execution_count": null,
      "id": "70a7ffe6",
      "metadata": {
        "id": "70a7ffe6"
      },
      "outputs": [],
      "source": [
        "dict_encoding_eda_internetservice = data_churn.groupby(['InternetService'])['Churn'].mean().to_dict()\n",
        "dict_encoding_eda_internetservice"
      ]
    },
    {
      "cell_type": "markdown",
      "id": "Q-vz3SDZ4nOw",
      "metadata": {
        "id": "Q-vz3SDZ4nOw"
      },
      "source": [
        "Insight:\n",
        "1. DSL memiliki rata-rata tingkat Churn sekitar 18.95%, yang berarti sekitar 18.95% dari Customer dengan kategori Churn.\n",
        "2. Fiber optic memiliki rata-rata tingkat Churn sekitar 41.89%, yang berarti sekitar 41.89% dari Customer dengan kategori Churn.\n",
        "3. No memiliki rata-rata tingkat Churn sekitar 7.40%, yang berarti sekitar 7.40% dari Customer dengan kategori Churn."
      ]
    },
    {
      "cell_type": "code",
      "execution_count": null,
      "id": "328b9795",
      "metadata": {
        "id": "328b9795"
      },
      "outputs": [],
      "source": [
        "# Mengubah nilai kategorikal di data_churn pada kolom InternetService menggunakan nilai dari dict_encoding_eda_internetservice\n",
        "# untuk mencegah data leakage\n",
        "data_churn['InternetService'] = data_churn['InternetService'].map(dict_encoding_eda_internetservice)"
      ]
    },
    {
      "cell_type": "code",
      "execution_count": null,
      "id": "ZLmouQYONEVf",
      "metadata": {
        "id": "ZLmouQYONEVf"
      },
      "outputs": [],
      "source": [
        "data_churn.head()"
      ]
    }
  ],
  "metadata": {
    "colab": {
      "collapsed_sections": [
        "2071f8e1",
        "d1c648ae",
        "8fd67964",
        "60d79b71",
        "195533dd",
        "9555fa73",
        "12d3f602",
        "451fa11f",
        "3eb56c03",
        "538c184f",
        "c7cbf694",
        "05764fe7",
        "852684ce",
        "89c2aad3",
        "b6ba219a",
        "8d8087f1",
        "2ca9e890",
        "af1ff1c2"
      ],
      "provenance": []
    },
    "kernelspec": {
      "display_name": "Python 3 (ipykernel)",
      "language": "python",
      "name": "python3"
    },
    "language_info": {
      "codemirror_mode": {
        "name": "ipython",
        "version": 3
      },
      "file_extension": ".py",
      "mimetype": "text/x-python",
      "name": "python",
      "nbconvert_exporter": "python",
      "pygments_lexer": "ipython3",
      "version": "3.11.4"
    }
  },
  "nbformat": 4,
  "nbformat_minor": 5
}
